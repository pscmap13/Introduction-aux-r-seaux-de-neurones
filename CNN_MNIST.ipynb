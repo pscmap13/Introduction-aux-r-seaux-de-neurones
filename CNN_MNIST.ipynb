{
 "cells": [
  {
   "cell_type": "code",
   "execution_count": 64,
   "metadata": {},
   "outputs": [],
   "source": [
    "import numpy as np \n",
    "import tensorflow as tf \n",
    "import pandas as pd \n",
    "import os \n",
    "import cv2\n",
    "from tqdm import tqdm\n",
    "import matplotlib.pyplot as plt \n",
    "from tensorflow.keras.models import Sequential\n",
    "from tensorflow.keras.layers import Conv2D , MaxPooling2D , Dense , Flatten , Activation , Dropout , Reshape\n",
    "from sklearn.preprocessing import StandardScaler\n",
    "from sklearn.model_selection import train_test_split"
   ]
  },
  {
   "cell_type": "code",
   "execution_count": 4,
   "metadata": {},
   "outputs": [],
   "source": [
    "assert hasattr(tf, \"function\") #On vérifie qu'on utilise la version 2.0 de tensorflow"
   ]
  },
  {
   "cell_type": "code",
   "execution_count": 12,
   "metadata": {},
   "outputs": [],
   "source": [
    "dataset = pd.read_csv('Documents/X/PSC/Datasets/digit-recognizer/train.csv')\n",
    "digits = range(10)"
   ]
  },
  {
   "cell_type": "code",
   "execution_count": 75,
   "metadata": {},
   "outputs": [
    {
     "name": "stdout",
     "output_type": "stream",
     "text": [
      "(784,)\n"
     ]
    }
   ],
   "source": [
    "\n",
    "y = dataset['label']\n",
    "X = dataset.drop('label', axis=1)\n",
    "X = np.asarray(X)\n",
    "y = np.asarray(y)\n",
    "\n",
    "#On normalise les données\n",
    "X = X/255\n",
    "\n",
    "shape = X[0].shape\n",
    "print(shape)"
   ]
  },
  {
   "cell_type": "code",
   "execution_count": 76,
   "metadata": {},
   "outputs": [
    {
     "data": {
      "image/png": "[encoded data removed]",
      "text/plain": [
       "<Figure size 432x288 with 1 Axes>"
      ]
     },
     "metadata": {
      "needs_background": "light"
     },
     "output_type": "display_data"
    },
    {
     "name": "stdout",
     "output_type": "stream",
     "text": [
      "Label : 4\n"
     ]
    }
   ],
   "source": [
    "#On affiche une image : \n",
    "\n",
    "image = X[3].reshape(28,28)\n",
    "plt.imshow(image)\n",
    "plt.show()\n",
    "print('Label :',y[3])"
   ]
  },
  {
   "cell_type": "code",
   "execution_count": 77,
   "metadata": {},
   "outputs": [],
   "source": [
    "X_train , X_valid , Y_train , Y_valid = train_test_split(X, y, test_size=0.2)"
   ]
  },
  {
   "cell_type": "code",
   "execution_count": 80,
   "metadata": {},
   "outputs": [],
   "source": [
    "def create_model():\n",
    "    \n",
    "    model = Sequential()\n",
    "    \n",
    "    model.add(Reshape((28,28,1), input_shape=shape))\n",
    "              \n",
    "    model.add(Conv2D(64 , 4 , activation='relu'))\n",
    "    model.add(MaxPooling2D(2))\n",
    "    model.add(Conv2D(128,3,activation='relu'))\n",
    "    model.add(MaxPooling2D(2))\n",
    "    model.add(Conv2D(256,3,activation='relu'))\n",
    "    model.add(MaxPooling2D(2))\n",
    "    \n",
    "    model.add(Flatten())\n",
    "    model.add(Dense(256,activation='relu'))\n",
    "    model.add(Dense(10 , activation = 'softmax'))\n",
    "    \n",
    "    return model"
   ]
  },
  {
   "cell_type": "code",
   "execution_count": 81,
   "metadata": {},
   "outputs": [],
   "source": [
    "model = create_model()"
   ]
  },
  {
   "cell_type": "code",
   "execution_count": 82,
   "metadata": {},
   "outputs": [],
   "source": [
    "epoch = 10 \n",
    "batch_size = 32 "
   ]
  },
  {
   "cell_type": "code",
   "execution_count": 85,
   "metadata": {},
   "outputs": [
    {
     "name": "stdout",
     "output_type": "stream",
     "text": [
      "Model: \"sequential_9\"\n",
      "_________________________________________________________________\n",
      "Layer (type)                 Output Shape              Param #   \n",
      "=================================================================\n",
      "reshape (Reshape)            (None, 28, 28, 1)         0         \n",
      "_________________________________________________________________\n",
      "conv2d_15 (Conv2D)           (None, 25, 25, 64)        1088      \n",
      "_________________________________________________________________\n",
      "max_pooling2d_15 (MaxPooling (None, 12, 12, 64)        0         \n",
      "_________________________________________________________________\n",
      "conv2d_16 (Conv2D)           (None, 10, 10, 128)       73856     \n",
      "_________________________________________________________________\n",
      "max_pooling2d_16 (MaxPooling (None, 5, 5, 128)         0         \n",
      "_________________________________________________________________\n",
      "conv2d_17 (Conv2D)           (None, 3, 3, 256)         295168    \n",
      "_________________________________________________________________\n",
      "max_pooling2d_17 (MaxPooling (None, 1, 1, 256)         0         \n",
      "_________________________________________________________________\n",
      "flatten_2 (Flatten)          (None, 256)               0         \n",
      "_________________________________________________________________\n",
      "dense_2 (Dense)              (None, 256)               65792     \n",
      "_________________________________________________________________\n",
      "dense_3 (Dense)              (None, 10)                2570      \n",
      "=================================================================\n",
      "Total params: 438,474\n",
      "Trainable params: 438,474\n",
      "Non-trainable params: 0\n",
      "_________________________________________________________________\n"
     ]
    }
   ],
   "source": [
    "\n",
    "model.summary()\n",
    "\n",
    "model.compile(optimizer = 'adam' , loss = 'sparse_categorical_crossentropy' , metrics = ['accuracy'])\n",
    "\n"
   ]
  },
  {
   "cell_type": "code",
   "execution_count": 86,
   "metadata": {},
   "outputs": [
    {
     "name": "stdout",
     "output_type": "stream",
     "text": [
      "Train on 33600 samples, validate on 8400 samples\n",
      "Epoch 1/10\n",
      "33600/33600 [==============================] - 62s 2ms/sample - loss: 0.2047 - accuracy: 0.9353 - val_loss: 0.0720 - val_accuracy: 0.9782\n",
      "Epoch 2/10\n",
      "33600/33600 [==============================] - 65s 2ms/sample - loss: 0.0635 - accuracy: 0.9803 - val_loss: 0.0546 - val_accuracy: 0.9835\n",
      "Epoch 3/10\n",
      "33600/33600 [==============================] - 51s 2ms/sample - loss: 0.0435 - accuracy: 0.9865 - val_loss: 0.0413 - val_accuracy: 0.9856\n",
      "Epoch 4/10\n",
      "33600/33600 [==============================] - 55s 2ms/sample - loss: 0.0335 - accuracy: 0.9894 - val_loss: 0.0584 - val_accuracy: 0.9832\n",
      "Epoch 5/10\n",
      "33600/33600 [==============================] - 63s 2ms/sample - loss: 0.0273 - accuracy: 0.9918 - val_loss: 0.0523 - val_accuracy: 0.9849\n",
      "Epoch 6/10\n",
      "33600/33600 [==============================] - 63s 2ms/sample - loss: 0.0221 - accuracy: 0.9932 - val_loss: 0.0520 - val_accuracy: 0.9845\n",
      "Epoch 7/10\n",
      "33600/33600 [==============================] - 60s 2ms/sample - loss: 0.0178 - accuracy: 0.9943 - val_loss: 0.0603 - val_accuracy: 0.9858\n",
      "Epoch 8/10\n",
      "33600/33600 [==============================] - 58s 2ms/sample - loss: 0.0150 - accuracy: 0.9952 - val_loss: 0.0526 - val_accuracy: 0.9879\n",
      "Epoch 9/10\n",
      "33600/33600 [==============================] - 49s 1ms/sample - loss: 0.0156 - accuracy: 0.9951 - val_loss: 0.0377 - val_accuracy: 0.9895\n",
      "Epoch 10/10\n",
      "33600/33600 [==============================] - 54s 2ms/sample - loss: 0.0127 - accuracy: 0.9963 - val_loss: 0.0671 - val_accuracy: 0.9846\n"
     ]
    },
    {
     "data": {
      "text/plain": [
       "<tensorflow.python.keras.callbacks.History at 0x64dcb18d0>"
      ]
     },
     "execution_count": 86,
     "metadata": {},
     "output_type": "execute_result"
    }
   ],
   "source": [
    "model.fit(X_train,Y_train,validation_data=(X_valid,Y_valid),epochs=epoch , batch_size = batch_size)"
   ]
  },
  {
   "cell_type": "code",
   "execution_count": 92,
   "metadata": {},
   "outputs": [],
   "source": [
    "test_dataset = pd.read_csv('Documents/X/PSC/Datasets/digit-recognizer/test.csv')\n",
    "\n",
    "X_test = np.asarray(test_dataset)"
   ]
  },
  {
   "cell_type": "code",
   "execution_count": 106,
   "metadata": {},
   "outputs": [
    {
     "data": {
      "image/png": "[encoded data removed]",
      "text/plain": [
       "<Figure size 432x288 with 1 Axes>"
      ]
     },
     "metadata": {
      "needs_background": "light"
     },
     "output_type": "display_data"
    },
    {
     "name": "stdout",
     "output_type": "stream",
     "text": [
      "(784,)\n"
     ]
    },
    {
     "data": {
      "text/plain": [
       "array([[1., 0., 0., 0., 0., 0., 0., 0., 0., 0.]], dtype=float32)"
      ]
     },
     "execution_count": 106,
     "metadata": {},
     "output_type": "execute_result"
    }
   ],
   "source": [
    "image = X_test[1].reshape(28,28)\n",
    "plt.imshow(image)\n",
    "plt.show()\n",
    "print(X_test[1].shape)\n",
    "test = X_test[1].reshape(1,784)\n",
    "test = test.astype(np.float32)\n",
    "model.predict(test)"
   ]
  },
  {
   "cell_type": "code",
   "execution_count": null,
   "metadata": {},
   "outputs": [],
   "source": []
  }
 ],
 "metadata": {
  "kernelspec": {
   "display_name": "Python 3",
   "language": "python",
   "name": "python3"
  },
  "language_info": {
   "codemirror_mode": {
    "name": "ipython",
    "version": 3
   },
   "file_extension": ".py",
   "mimetype": "text/x-python",
   "name": "python",
   "nbconvert_exporter": "python",
   "pygments_lexer": "ipython3",
   "version": "3.7.3"
  }
 },
 "nbformat": 4,
 "nbformat_minor": 2
}
