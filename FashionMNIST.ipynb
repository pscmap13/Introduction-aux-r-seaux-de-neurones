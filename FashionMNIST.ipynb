{
 "cells": [
  {
   "cell_type": "code",
   "execution_count": 54,
   "metadata": {},
   "outputs": [],
   "source": [
    "import matplotlib.pyplot as plt\n",
    "import tensorflow as tf\n",
    "import numpy as np\n",
    "import pandas as pd\n",
    "import sys"
   ]
  },
  {
   "cell_type": "code",
   "execution_count": 55,
   "metadata": {},
   "outputs": [],
   "source": [
    "#On s'assure qu'on utilise bien la version 2.0 de tensorflow : \n",
    "assert hasattr(tf, \"function\")"
   ]
  },
  {
   "cell_type": "code",
   "execution_count": 56,
   "metadata": {},
   "outputs": [
    {
     "name": "stdout",
     "output_type": "stream",
     "text": [
      "(10000, 784)\n",
      "(10000,)\n"
     ]
    }
   ],
   "source": [
    "\n",
    "from sklearn.preprocessing import StandardScaler\n",
    "\n",
    "# Fashio MNIST\n",
    "fashion_mnist = tf.keras.datasets.fashion_mnist\n",
    "(images, targets), (images_test, targets_test) = fashion_mnist.load_data()\n",
    "\n",
    "# Get only a subpart of the dataset\n",
    "images = images[:10000]\n",
    "targets = targets [:10000]\n",
    "\n",
    "# Reshape the dataset and convert to float\n",
    "images = images.reshape(-1, 784)\n",
    "images = images.astype(float)\n",
    "images_test = images_test.reshape(-1, 784)\n",
    "images_test = images_test.astype(float)\n",
    "\n",
    "scaler = StandardScaler()\n",
    "images = scaler.fit_transform(images)\n",
    "images_test = scaler.transform(images_test)\n",
    "\n",
    "print(images.shape)\n",
    "print(targets.shape)"
   ]
  },
  {
   "cell_type": "code",
   "execution_count": 57,
   "metadata": {},
   "outputs": [
    {
     "data": {
      "image/png": "[encoded data removed]",
      "text/plain": [
       "<Figure size 432x288 with 1 Axes>"
      ]
     },
     "metadata": {
      "needs_background": "light"
     },
     "output_type": "display_data"
    }
   ],
   "source": [
    "targets_names = [\"T-shirt/top\", \"Trouser\", \"Pullover\", \"Dress\", \"Coat\", \"Sandal\", \n",
    "                 \"Shirt\", \"Sneaker\", \"Bag\", \"Ankle boot\"\n",
    "]\n",
    "\n",
    "#On affiche un exemple d'image\n",
    "plt.imshow(np.reshape(images[9], (28, 28)), cmap=\"binary\")\n",
    "plt.title(targets_names[targets[9]])\n",
    "plt.show()"
   ]
  },
  {
   "cell_type": "code",
   "execution_count": 58,
   "metadata": {},
   "outputs": [
    {
     "name": "stdout",
     "output_type": "stream",
     "text": [
      "First line of the image -0.0142697062475628\n",
      "Associated target 5\n"
     ]
    }
   ],
   "source": [
    "print(\"First line of the image\", images[9][0])\n",
    "print(\"Associated target\", targets[9])\n"
   ]
  },
  {
   "cell_type": "code",
   "execution_count": 60,
   "metadata": {},
   "outputs": [
    {
     "name": "stdout",
     "output_type": "stream",
     "text": [
      "Shape of the image (1, 784)\n",
      "Shape of the image (1, 784)\n"
     ]
    }
   ],
   "source": [
    "#On va d'abord transformer l'image en un vecteur de 28*28 valeurs : \n",
    "model = tf.keras.models.Sequential()\n",
    "\n",
    "print(\"Shape of the image\", images[0:1].shape)\n",
    "model_output = model.predict(images[0:1])\n",
    "print(\"Shape of the image\", model_output.shape)"
   ]
  },
  {
   "cell_type": "code",
   "execution_count": 62,
   "metadata": {},
   "outputs": [
    {
     "name": "stdout",
     "output_type": "stream",
     "text": [
      "[[0.1311033  0.16113265 0.3030888  0.06470967 0.09243726 0.0396831\n",
      "  0.07304034 0.10201249 0.01154662 0.02124572]] [9]\n"
     ]
    }
   ],
   "source": [
    "#On ajoute les layers : \n",
    "\n",
    "model = tf.keras.models.Sequential()\n",
    "\n",
    "\n",
    "model.add(tf.keras.layers.Dense(256, activation = \"relu\"))\n",
    "model.add(tf.keras.layers.Dense(128, activation = \"relu\"))\n",
    "model.add(tf.keras.layers.Dense(10, activation = \"softmax\"))\n",
    "\n",
    "model_output = model.predict(images[0:1])\n",
    "print(model_output, targets[0:1])"
   ]
  },
  {
   "cell_type": "code",
   "execution_count": 63,
   "metadata": {},
   "outputs": [
    {
     "name": "stdout",
     "output_type": "stream",
     "text": [
      "Model: \"sequential_19\"\n",
      "_________________________________________________________________\n",
      "Layer (type)                 Output Shape              Param #   \n",
      "=================================================================\n",
      "dense_34 (Dense)             multiple                  200960    \n",
      "_________________________________________________________________\n",
      "dense_35 (Dense)             multiple                  32896     \n",
      "_________________________________________________________________\n",
      "dense_36 (Dense)             multiple                  1290      \n",
      "=================================================================\n",
      "Total params: 235,146\n",
      "Trainable params: 235,146\n",
      "Non-trainable params: 0\n",
      "_________________________________________________________________\n"
     ]
    }
   ],
   "source": [
    "#Résumé du modèle : \n",
    "model.summary()"
   ]
  },
  {
   "cell_type": "code",
   "execution_count": 64,
   "metadata": {},
   "outputs": [],
   "source": [
    "model.compile(\n",
    "loss = \"sparse_categorical_crossentropy\",\n",
    "optimizer = \"sgd\",\n",
    "metrics = [\"accuracy\"],\n",
    ")"
   ]
  },
  {
   "cell_type": "code",
   "execution_count": 65,
   "metadata": {},
   "outputs": [
    {
     "name": "stdout",
     "output_type": "stream",
     "text": [
      "Train on 10000 samples\n",
      "Epoch 1/10\n",
      "10000/10000 [==============================] - 1s 92us/sample - loss: 0.8031 - accuracy: 0.7271\n",
      "Epoch 2/10\n",
      "10000/10000 [==============================] - 1s 54us/sample - loss: 0.4938 - accuracy: 0.8255\n",
      "Epoch 3/10\n",
      "10000/10000 [==============================] - 1s 55us/sample - loss: 0.4230 - accuracy: 0.8513\n",
      "Epoch 4/10\n",
      "10000/10000 [==============================] - 1s 56us/sample - loss: 0.3803 - accuracy: 0.8658\n",
      "Epoch 5/10\n",
      "10000/10000 [==============================] - 1s 58us/sample - loss: 0.3508 - accuracy: 0.8783\n",
      "Epoch 6/10\n",
      "10000/10000 [==============================] - 1s 56us/sample - loss: 0.3255 - accuracy: 0.8868\n",
      "Epoch 7/10\n",
      "10000/10000 [==============================] - 1s 55us/sample - loss: 0.3045 - accuracy: 0.8958\n",
      "Epoch 8/10\n",
      "10000/10000 [==============================] - 1s 59us/sample - loss: 0.2874 - accuracy: 0.9021\n",
      "Epoch 9/10\n",
      "10000/10000 [==============================] - 1s 65us/sample - loss: 0.2693 - accuracy: 0.9086\n",
      "Epoch 10/10\n",
      "10000/10000 [==============================] - 1s 54us/sample - loss: 0.2543 - accuracy: 0.9146\n"
     ]
    }
   ],
   "source": [
    "history = model.fit(images, targets, epochs = 10)"
   ]
  },
  {
   "cell_type": "code",
   "execution_count": null,
   "metadata": {},
   "outputs": [],
   "source": []
  }
 ],
 "metadata": {
  "kernelspec": {
   "display_name": "Python 3",
   "language": "python",
   "name": "python3"
  },
  "language_info": {
   "codemirror_mode": {
    "name": "ipython",
    "version": 3
   },
   "file_extension": ".py",
   "mimetype": "text/x-python",
   "name": "python",
   "nbconvert_exporter": "python",
   "pygments_lexer": "ipython3",
   "version": "3.7.3"
  }
 },
 "nbformat": 4,
 "nbformat_minor": 2
}
